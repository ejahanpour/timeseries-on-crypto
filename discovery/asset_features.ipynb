{
 "cells": [
  {
   "cell_type": "code",
   "execution_count": 1,
   "metadata": {},
   "outputs": [],
   "source": [
    "import pandas as pd\n",
    "import numpy as np\n",
    "import dask.dataframe as dd\n",
    "from datetime import datetime"
   ]
  },
  {
   "cell_type": "code",
   "execution_count": 2,
   "metadata": {},
   "outputs": [],
   "source": [
    "## variables #####\n",
    "target_asset_id = 1\n",
    "forecast_period = 60 # one hour\n",
    "train_period = 30 * 1440 # 30 days\n",
    "target = 'Open'"
   ]
  },
  {
   "cell_type": "code",
   "execution_count": 3,
   "metadata": {},
   "outputs": [],
   "source": [
    "train_dir = '/mnt/original_dataset'\n",
    "all_market = dd.read_csv(f'{train_dir}/train.csv')\n",
    "asset_details = pd.read_csv(f'{train_dir}/asset_details.csv')\n",
    "# all_market['transact_time'] = all_market.timestamp.map(datetime.fromtimestamp)\n",
    "target_market = all_market[all_market.Asset_ID == target_asset_id]\n",
    "other_market = all_market[all_market.Asset_ID != target_asset_id]"
   ]
  },
  {
   "cell_type": "code",
   "execution_count": 4,
   "metadata": {},
   "outputs": [],
   "source": [
    "year21 = int(datetime.timestamp(datetime.strptime('01/01/2021', '%m/%d/%Y')))\n",
    "target_market21 = target_market.loc[target_market.timestamp > year21, :]\n",
    "other_market21 = other_market.loc[other_market.timestamp > year21, :]\n",
    "target_df_size = len(target_market.Asset_ID)"
   ]
  },
  {
   "cell_type": "code",
   "execution_count": 5,
   "metadata": {},
   "outputs": [
    {
     "data": {
      "text/html": [
       "<div>\n",
       "<style scoped>\n",
       "    .dataframe tbody tr th:only-of-type {\n",
       "        vertical-align: middle;\n",
       "    }\n",
       "\n",
       "    .dataframe tbody tr th {\n",
       "        vertical-align: top;\n",
       "    }\n",
       "\n",
       "    .dataframe thead th {\n",
       "        text-align: right;\n",
       "    }\n",
       "</style>\n",
       "<table border=\"1\" class=\"dataframe\">\n",
       "  <thead>\n",
       "    <tr style=\"text-align: right;\">\n",
       "      <th></th>\n",
       "      <th>timestamp</th>\n",
       "      <th>Asset_ID</th>\n",
       "      <th>Count</th>\n",
       "      <th>Open</th>\n",
       "      <th>High</th>\n",
       "      <th>Low</th>\n",
       "      <th>Close</th>\n",
       "      <th>Volume</th>\n",
       "      <th>VWAP</th>\n",
       "      <th>Target</th>\n",
       "    </tr>\n",
       "  </thead>\n",
       "  <tbody>\n",
       "    <tr>\n",
       "      <th>27453</th>\n",
       "      <td>1632182400</td>\n",
       "      <td>9</td>\n",
       "      <td>775.0</td>\n",
       "      <td>157.181571</td>\n",
       "      <td>157.250000</td>\n",
       "      <td>156.700000</td>\n",
       "      <td>156.943857</td>\n",
       "      <td>4.663725e+03</td>\n",
       "      <td>156.994319</td>\n",
       "      <td>NaN</td>\n",
       "    </tr>\n",
       "    <tr>\n",
       "      <th>27454</th>\n",
       "      <td>1632182400</td>\n",
       "      <td>10</td>\n",
       "      <td>34.0</td>\n",
       "      <td>2437.065067</td>\n",
       "      <td>2438.000000</td>\n",
       "      <td>2430.226900</td>\n",
       "      <td>2432.907467</td>\n",
       "      <td>3.975460e+00</td>\n",
       "      <td>2434.818747</td>\n",
       "      <td>NaN</td>\n",
       "    </tr>\n",
       "    <tr>\n",
       "      <th>27455</th>\n",
       "      <td>1632182400</td>\n",
       "      <td>13</td>\n",
       "      <td>380.0</td>\n",
       "      <td>0.091390</td>\n",
       "      <td>0.091527</td>\n",
       "      <td>0.091260</td>\n",
       "      <td>0.091349</td>\n",
       "      <td>2.193732e+06</td>\n",
       "      <td>0.091388</td>\n",
       "      <td>NaN</td>\n",
       "    </tr>\n",
       "    <tr>\n",
       "      <th>27456</th>\n",
       "      <td>1632182400</td>\n",
       "      <td>12</td>\n",
       "      <td>177.0</td>\n",
       "      <td>0.282168</td>\n",
       "      <td>0.282438</td>\n",
       "      <td>0.281842</td>\n",
       "      <td>0.282051</td>\n",
       "      <td>1.828508e+05</td>\n",
       "      <td>0.282134</td>\n",
       "      <td>NaN</td>\n",
       "    </tr>\n",
       "    <tr>\n",
       "      <th>27457</th>\n",
       "      <td>1632182400</td>\n",
       "      <td>11</td>\n",
       "      <td>48.0</td>\n",
       "      <td>232.695000</td>\n",
       "      <td>232.800000</td>\n",
       "      <td>232.240000</td>\n",
       "      <td>232.275000</td>\n",
       "      <td>1.035123e+02</td>\n",
       "      <td>232.569697</td>\n",
       "      <td>NaN</td>\n",
       "    </tr>\n",
       "  </tbody>\n",
       "</table>\n",
       "</div>"
      ],
      "text/plain": [
       "        timestamp  Asset_ID  Count         Open         High          Low  \\\n",
       "27453  1632182400         9  775.0   157.181571   157.250000   156.700000   \n",
       "27454  1632182400        10   34.0  2437.065067  2438.000000  2430.226900   \n",
       "27455  1632182400        13  380.0     0.091390     0.091527     0.091260   \n",
       "27456  1632182400        12  177.0     0.282168     0.282438     0.281842   \n",
       "27457  1632182400        11   48.0   232.695000   232.800000   232.240000   \n",
       "\n",
       "             Close        Volume         VWAP  Target  \n",
       "27453   156.943857  4.663725e+03   156.994319     NaN  \n",
       "27454  2432.907467  3.975460e+00  2434.818747     NaN  \n",
       "27455     0.091349  2.193732e+06     0.091388     NaN  \n",
       "27456     0.282051  1.828508e+05     0.282134     NaN  \n",
       "27457   232.275000  1.035123e+02   232.569697     NaN  "
      ]
     },
     "execution_count": 5,
     "metadata": {},
     "output_type": "execute_result"
    }
   ],
   "source": [
    "other_market21.tail()"
   ]
  },
  {
   "cell_type": "code",
   "execution_count": 6,
   "metadata": {},
   "outputs": [],
   "source": []
  },
  {
   "cell_type": "code",
   "execution_count": 14,
   "metadata": {},
   "outputs": [],
   "source": [
    "train_start = np.random.randint(0, target_df_size - train_period - forecast_period, 1)[0]\n",
    "train_end = train_start + train_period\n",
    "test_start = train_end + 1\n",
    "test_end = test_start + forecast_period\n",
    "target_train = target_market21.loc[train_start:train_end]"
   ]
  },
  {
   "cell_type": "code",
   "execution_count": 11,
   "metadata": {},
   "outputs": [
    {
     "name": "stdout",
     "output_type": "stream",
     "text": [
      "1149056 1956282 1192256\n"
     ]
    }
   ],
   "source": [
    "print(train_start, target_df_size, train_end)"
   ]
  },
  {
   "cell_type": "code",
   "execution_count": 10,
   "metadata": {},
   "outputs": [],
   "source": []
  },
  {
   "cell_type": "code",
   "execution_count": null,
   "metadata": {},
   "outputs": [],
   "source": []
  }
 ],
 "metadata": {
  "kernelspec": {
   "display_name": "Python 3",
   "language": "python",
   "name": "python3"
  },
  "language_info": {
   "codemirror_mode": {
    "name": "ipython",
    "version": 3
   },
   "file_extension": ".py",
   "mimetype": "text/x-python",
   "name": "python",
   "nbconvert_exporter": "python",
   "pygments_lexer": "ipython3",
   "version": "3.7.7"
  }
 },
 "nbformat": 4,
 "nbformat_minor": 2
}
